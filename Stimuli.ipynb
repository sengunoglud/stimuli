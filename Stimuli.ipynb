{
  "cells": [
    {
      "cell_type": "code",
      "execution_count": null,
      "metadata": {
        "id": "fo2YxRTjUDM1"
      },
      "outputs": [],
      "source": [
        "import pandas as pd\n",
        "import csv\n",
        "import ast \n",
        "import os\n",
        "import re\n",
        "filenames = os.listdir()"
      ]
    },
    {
      "cell_type": "code",
      "execution_count": null,
      "metadata": {
        "id": "GQzq1W6knRmi"
      },
      "outputs": [],
      "source": [
        "subject_lines = []\n",
        "stimuli_lines = []\n",
        "direction_lines = []\n",
        "response_lines = []\n",
        "rt_lines = []"
      ]
    },
    {
      "cell_type": "code",
      "execution_count": null,
      "metadata": {
        "id": "9MNSIbq-WkLC"
      },
      "outputs": [],
      "source": [
        "filenames = os.listdir()\n",
        "files = []\n",
        "for filename in filenames:\n",
        "  if filename.endswith(\".txt\"):\n",
        "     files.append(filename)"
      ]
    },
    {
      "cell_type": "code",
      "execution_count": null,
      "metadata": {
        "id": "j_kSbq61UebT"
      },
      "outputs": [],
      "source": [
        "for filename in filenames:\n",
        "  if filename.endswith(\".txt\"):\n",
        "    with open (filename, \"r\", encoding=\"utf-16\") as textfile:\n",
        "      with open (filename[:-4] + \".csv\", \"w\") as csvfile:\n",
        "        writer = csv.writer(csvfile)\n",
        "        writer.writerow([\n",
        "                         \"Participant_No\",\n",
        "                         \"Stimuli_ID\",\n",
        "                         \"Direction\",\n",
        "                         \"Response\",\n",
        "                         \"ResponseTime\"\n",
        "        ])\n",
        "        for line in textfile.readlines():\n",
        "          if \"Subject\" in line:\n",
        "            subject_lines.append(line)\n",
        "          elif \"TrialList3:\" in line:\n",
        "            stimuli_lines.append(line)\n",
        "          elif \"DecisionList3:\" in line:\n",
        "            direction_lines.append(line)\n",
        "          elif \"DECISION2.RESP:\" in line:\n",
        "            response_lines.append(line)\n",
        "          elif \"DECISION2.RT:\" in line:\n",
        "            rt_lines.append(line)\n"
      ]
    },
    {
      "cell_type": "code",
      "execution_count": null,
      "metadata": {
        "id": "w_AP9S8PvcQa"
      },
      "outputs": [],
      "source": [
        "subject_lines_temp = []\n",
        "stimuli_lines_temp = []\n",
        "direction_lines_temp = []\n",
        "response_lines_temp = []\n",
        "rt_lines_temp = []"
      ]
    },
    {
      "cell_type": "code",
      "execution_count": null,
      "metadata": {
        "id": "blKFaDVZsvr5"
      },
      "outputs": [],
      "source": [
        "with open (\"/content/EsinTuna_v2-2-1.txt\", \"r\", encoding=\"utf-16\") as textfile:\n",
        "  for line in textfile.readlines():\n",
        "    if \"Subject\" in line:\n",
        "      subject_lines_temp.append(line)\n",
        "    elif \"TrialList3:\" in line:\n",
        "      stimuli_lines_temp.append(line)\n",
        "    elif \"DecisionList3:\" in line:\n",
        "      direction_lines_temp.append(line)\n",
        "    elif \"DECISION2.RESP:\" or  \"DECISION1.RESP:\" in line:\n",
        "      response_lines_temp.append(line)\n",
        "    elif \"DECISION2.RT:\" or \"DECISION1.RT:\" in line:\n",
        "      rt_lines_temp.append(line)\n"
      ]
    },
    {
      "cell_type": "code",
      "execution_count": null,
      "metadata": {
        "id": "hMDRQCaPwh8f"
      },
      "outputs": [],
      "source": [
        "temp_df = pd.DataFrame([subject_lines_temp,stimuli_lines_temp,direction_lines_temp,response_lines_temp,rt_lines_temp],index=[\n",
        "                         \"Participant_No\",\n",
        "                         \"Stimuli_ID\",\n",
        "                         \"Direction\",\n",
        "                         \"Response\",\n",
        "                         \"ResponseTime\"\n",
        "        ])"
      ]
    },
    {
      "cell_type": "code",
      "execution_count": null,
      "metadata": {
        "id": "-1Wkx0HayI5U"
      },
      "outputs": [],
      "source": [
        "transposed_data = temp_df.T"
      ]
    }
  ],
  "metadata": {
    "colab": {
      "name": "EsinTuna_v2.ipynb",
      "provenance": []
    },
    "kernelspec": {
      "display_name": "Python 3",
      "name": "python3"
    },
    "language_info": {
      "name": "python"
    }
  },
  "nbformat": 4,
  "nbformat_minor": 0
}
